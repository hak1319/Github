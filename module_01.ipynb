{
  "nbformat": 4,
  "nbformat_minor": 0,
  "metadata": {
    "colab": {
      "provenance": [],
      "authorship_tag": "ABX9TyP2cJBZhlb4JWhMcwzxsGLS",
      "include_colab_link": true
    },
    "kernelspec": {
      "name": "python3",
      "display_name": "Python 3"
    },
    "language_info": {
      "name": "python"
    }
  },
  "cells": [
    {
      "cell_type": "markdown",
      "metadata": {
        "id": "view-in-github",
        "colab_type": "text"
      },
      "source": [
        "<a href=\"https://colab.research.google.com/github/hak1319/Github/blob/main/module_01.ipynb\" target=\"_parent\"><img src=\"https://colab.research.google.com/assets/colab-badge.svg\" alt=\"Open In Colab\"/></a>"
      ]
    },
    {
      "cell_type": "markdown",
      "source": [
        "# module (파일을 모듈로 지정하면 그 안에 있는 함수를 다른 파일에도 사용 할 수 있음)\n",
        "\n",
        "\n",
        "1.   import sys\n",
        "2.   폴더를 생성,폴더안에 쓰고자하는 함수가 정의되어있는 파일을저장\n",
        "3.   sys.append.('00')폴더저장경로 추가\n",
        "4.   같은 경로상에 있으면 import 폴더.폴더.파일 - 이렇게 사용가능\n",
        "\n",
        "\n",
        "    * module : 함수, 변수 ,클래스 등 파이썬 구성 요소 등을 모아놓은 파일\n",
        "    * name : 이라고 if 문안에 넣어 놓으면 연습해놓는것"
      ],
      "metadata": {
        "id": "055FFug2GyZW"
      }
    },
    {
      "cell_type": "code",
      "execution_count": null,
      "metadata": {
        "colab": {
          "base_uri": "https://localhost:8080/"
        },
        "id": "kWuCL8TjGpEQ",
        "outputId": "9379ff48-3a0f-49ed-92c3-7d47079e7752"
      },
      "outputs": [
        {
          "output_type": "stream",
          "name": "stdout",
          "text": [
            "---------------\n",
            "called! inner!\n",
            "10\n",
            "10\n",
            "25\n",
            "5.0\n",
            "125\n"
          ]
        }
      ],
      "source": [
        "def add(x,y):\n",
        "    return x+y\n",
        "def subtract(x,y):\n",
        "    return x-y\n",
        "def multiply(x,y):\n",
        "    return x*y\n",
        "def divide(x,y):\n",
        "    return x/y\n",
        "def power(x,y):\n",
        "    return x**y\n",
        "\n",
        "# print('-'* 15)\n",
        "# print('called! inner!')\n",
        "# print(add(5,5))\n",
        "# print(subtract(15,5))\n",
        "# print(multiply(5,5))\n",
        "# print(divide(10,2))\n",
        "# print(power(5,3))\n"
      ]
    },
    {
      "cell_type": "code",
      "source": [
        "import sys\n",
        "sys.path.append('/Users/gimbyeonghag/Desktop/math')\n",
        "print(sys.path)\n",
        "\n",
        "import test_module\n",
        "\n",
        "print(test_module.power(10,3))"
      ],
      "metadata": {
        "id": "O0nHhelmPnXd"
      },
      "execution_count": null,
      "outputs": []
    },
    {
      "cell_type": "code",
      "source": [
        "# __name__\n",
        "\n",
        "if __name__==\"__main__\" :\n",
        "    print('-'* 15)\n",
        "    print('called! __main__')\n",
        "    print(add(5,5))\n",
        "    print(subtract(15,5))\n",
        "    print(multiply(5,5))\n",
        "    print(divide(10,2))\n",
        "    print(power(5,3))\n"
      ],
      "metadata": {
        "id": "fVLuqoMAPqTQ"
      },
      "execution_count": null,
      "outputs": []
    }
  ]
}